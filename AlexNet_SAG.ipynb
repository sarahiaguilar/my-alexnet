{
  "nbformat": 4,
  "nbformat_minor": 0,
  "metadata": {
    "colab": {
      "name": "alexnet_Aguilar.ipynb",
      "provenance": []
    },
    "kernelspec": {
      "name": "python3",
      "display_name": "Python 3"
    },
    "accelerator": "GPU"
  },
  "cells": [
    {
      "cell_type": "markdown",
      "metadata": {
        "id": "0wgnacYjLhV3"
      },
      "source": [
        "# Implementation of AlexNet in Keras over Tensorflow in Python\n",
        "### by Sarahí Aguilar\n",
        "\n",
        "\n"
      ]
    },
    {
      "cell_type": "markdown",
      "metadata": {
        "id": "tAMAFOndMi1d"
      },
      "source": [
        "### About AlexNet overall architecture\n",
        "\n",
        "AlexNet contains eight layers with weights; the first five are convolutional and the remaining three are fullyconnected. The output of the last  fully-connected layer is fed to a 1000-way softmax which produces a distribution over the 1000 class labels. This network maximizes the multinomial logistic regression objective, which is equivalent to maximizing the average across training cases of the log-probability of the correct label under the prediction distribution.\n",
        "\n",
        "The kernels of the second, fourth, and fifth convolutional layers are connected only to those kernel maps in the previous layer which reside on the same GPU. The kernels of the third convolutional layer are connected to all kernel maps in the second layer. The neurons in the fullyconnected layers are connected to all neurons in the previous layer. Response-normalization layers follow the first and second convolutional layers. Max-pooling layers, follow both response-normalization layers as well as the fifth convolutional layer. The ReLU\n",
        "non-linearity is applied to the output of every convolutional and fully-connected layer.\n",
        "\n",
        "The first convolutional layer filters the 32×32×3 input image with 96 kernels of size 11×11×3 with a stride of 4 pixels (this is the distance between the receptive field centers of neighboring neurons in a kernel map). The second convolutional layer takes as input the (response-normalized and pooled) output of the first convolutional layer and filters it with 256 kernels of size 5 × 5 × 48.\n",
        "\n",
        "The third, fourth, and fifth convolutional layers are connected to one another without any intervening pooling or normalization layers. The third convolutional layer has 384 kernels of size 3 × 3 × 256 connected to the (normalized, pooled) outputs of the second convolutional layer. The fourth\n",
        "convolutional layer has 384 kernels of size 3 × 3 × 192 , and the fifth convolutional layer has 256 kernels of size 3 × 3 × 192. The fully-connected layers have 4096 neurons each.\n",
        "\n",
        "Source: https://papers.nips.cc/paper/4824-imagenet-classification-with-deep-convolutional-neural-networks.pdf"
      ]
    },
    {
      "cell_type": "markdown",
      "metadata": {
        "id": "06cOz443ksES"
      },
      "source": [
        "![picture](https://raw.githubusercontent.com/sarahiaguilar/my-alexnet/main/alexnet_architecture.png)\n"
      ]
    },
    {
      "cell_type": "markdown",
      "metadata": {
        "id": "HdKsD_CRL4ha"
      },
      "source": [
        "#### Importing libraries"
      ]
    },
    {
      "cell_type": "code",
      "metadata": {
        "id": "pJIixSfokMaT"
      },
      "source": [
        "import tensorflow as tf\n",
        "from tensorflow import keras\n",
        "import matplotlib.pyplot as plt"
      ],
      "execution_count": 17,
      "outputs": []
    },
    {
      "cell_type": "markdown",
      "metadata": {
        "id": "uoguKvSQMBsl"
      },
      "source": [
        "#### Importing Cifar10 dataset\n",
        "\n",
        "The CIFAR-10 dataset consists of 60000 32x32 colour images in 10 classes, with 6000 images per class. There are 50000 training images and 10000 test images.\n",
        "\n",
        "The dataset is divided into five training batches and one test batch, each with 10000 images. The test batch contains exactly 1000 randomly-selected images from each class. The training batches contain the remaining images in random order, but some training batches may contain more images from one class than another. Between them, the training batches contain exactly 5000 images from each class.\n",
        "\n",
        "Source: https://www.cs.toronto.edu/~kriz/cifar.html\n"
      ]
    },
    {
      "cell_type": "code",
      "metadata": {
        "id": "rGP12CrZehlb"
      },
      "source": [
        "(train_images, train_labels), (test_images, test_labels) = keras.datasets.cifar10.load_data()"
      ],
      "execution_count": 18,
      "outputs": []
    },
    {
      "cell_type": "code",
      "metadata": {
        "id": "FAMs0ff0lzO9"
      },
      "source": [
        "class_names = ['airplane', 'automobile', 'bird', 'cat', 'deer', 'dog', 'frog', 'horse', 'ship', 'truck']"
      ],
      "execution_count": 19,
      "outputs": []
    },
    {
      "cell_type": "code",
      "metadata": {
        "id": "dT4Au6HVmN07",
        "outputId": "282e7dde-a058-475a-b48b-ed92cdef91cd",
        "colab": {
          "base_uri": "https://localhost:8080/",
          "height": 282
        }
      },
      "source": [
        "# Previewing random example image\n",
        "example_image = train_images[111, :, :, :]\n",
        "plt.imshow(example_image)\n",
        "example_image.shape"
      ],
      "execution_count": 20,
      "outputs": [
        {
          "output_type": "execute_result",
          "data": {
            "text/plain": [
              "(32, 32, 3)"
            ]
          },
          "metadata": {
            "tags": []
          },
          "execution_count": 20
        },
        {
          "output_type": "display_data",
          "data": {
            "image/png": "[encoded data removed]",
            "text/plain": [
              "<Figure size 432x288 with 1 Axes>"
            ]
          },
          "metadata": {
            "tags": [],
            "needs_background": "light"
          }
        }
      ]
    },
    {
      "cell_type": "markdown",
      "metadata": {
        "id": "TsS9fZlNNnPE"
      },
      "source": [
        "#### Building net"
      ]
    },
    {
      "cell_type": "code",
      "metadata": {
        "id": "XvIjZcN8IhbC"
      },
      "source": [
        "model = keras.models.Sequential([\n",
        "    # Convolutional layer #1\n",
        "    keras.layers.Conv2D(filters=96, kernel_size=(11, 11), strides=(4, 4), activation='relu', input_shape=(32, 32, 3)),\n",
        "    keras.layers.BatchNormalization(),\n",
        "    keras.layers.MaxPool2D(pool_size=(2, 2), strides=(2, 2), padding='same'),\n",
        "\n",
        "    # Convolutional layer #2\n",
        "    keras.layers.Conv2D(filters=256, kernel_size=(5, 5), strides=(1, 1), activation='relu', padding='same'),\n",
        "    keras.layers.BatchNormalization(),\n",
        "    keras.layers.MaxPool2D(pool_size=(2, 2), strides=(2, 2), padding='same'),\n",
        "\n",
        "    # Convolutional layer #3\n",
        "    keras.layers.Conv2D(filters=384, kernel_size=(3, 3), strides=(1, 1), activation='relu', padding='same'),\n",
        "    keras.layers.BatchNormalization(),\n",
        "\n",
        "    # Convolutional layer #4\n",
        "    keras.layers.Conv2D(filters=384, kernel_size=(3, 3), strides=(1, 1), activation='relu', padding='same'),\n",
        "    keras.layers.BatchNormalization(),\n",
        "\n",
        "    # Convolutional layer #5\n",
        "    keras.layers.Conv2D(filters=256, kernel_size=(3, 3), strides=(1, 1), activation='relu', padding='same'),\n",
        "    keras.layers.BatchNormalization(),\n",
        "    keras.layers.MaxPool2D(pool_size=(2, 2), strides=(2, 2)),\n",
        "\n",
        "    keras.layers.Flatten(),\n",
        "\n",
        "    # Fully-connected layer #1\n",
        "    keras.layers.Dense(4096, activation='relu', input_shape=(32, 32, 3)),\n",
        "    keras.layers.Dropout(0.5),\n",
        "\n",
        "    # Fully-connected layer #2\n",
        "    keras.layers.Dense(4096, activation='relu'),\n",
        "    keras.layers.Dropout(0.5),\n",
        "\n",
        "    # Fully-connected layer #3\n",
        "    keras.layers.Dense(1000, activation='relu'),\n",
        "    keras.layers.Dropout(0.5),\n",
        "\n",
        "    # Output layer\n",
        "    keras.layers.Dense(10, activation='softmax')\n",
        "])"
      ],
      "execution_count": 21,
      "outputs": []
    },
    {
      "cell_type": "code",
      "metadata": {
        "id": "3kvvFUHVn1Lj",
        "outputId": "778e180e-4a01-4193-b714-bdaac10885ff",
        "colab": {
          "base_uri": "https://localhost:8080/",
          "height": 830
        }
      },
      "source": [
        "model.compile(loss='sparse_categorical_crossentropy', optimizer=tf.optimizers.SGD(lr=0.001), metrics=['accuracy'])\n",
        "model.summary()"
      ],
      "execution_count": 22,
      "outputs": [
        {
          "output_type": "stream",
          "text": [
            "Model: \"sequential_8\"\n",
            "_________________________________________________________________\n",
            "Layer (type)                 Output Shape              Param #   \n",
            "=================================================================\n",
            "conv2d_30 (Conv2D)           (None, 6, 6, 96)          34944     \n",
            "_________________________________________________________________\n",
            "batch_normalization_30 (Batc (None, 6, 6, 96)          384       \n",
            "_________________________________________________________________\n",
            "max_pooling2d_19 (MaxPooling (None, 3, 3, 96)          0         \n",
            "_________________________________________________________________\n",
            "conv2d_31 (Conv2D)           (None, 3, 3, 256)         614656    \n",
            "_________________________________________________________________\n",
            "batch_normalization_31 (Batc (None, 3, 3, 256)         1024      \n",
            "_________________________________________________________________\n",
            "max_pooling2d_20 (MaxPooling (None, 2, 2, 256)         0         \n",
            "_________________________________________________________________\n",
            "conv2d_32 (Conv2D)           (None, 2, 2, 384)         885120    \n",
            "_________________________________________________________________\n",
            "batch_normalization_32 (Batc (None, 2, 2, 384)         1536      \n",
            "_________________________________________________________________\n",
            "conv2d_33 (Conv2D)           (None, 2, 2, 384)         1327488   \n",
            "_________________________________________________________________\n",
            "batch_normalization_33 (Batc (None, 2, 2, 384)         1536      \n",
            "_________________________________________________________________\n",
            "conv2d_34 (Conv2D)           (None, 2, 2, 256)         884992    \n",
            "_________________________________________________________________\n",
            "batch_normalization_34 (Batc (None, 2, 2, 256)         1024      \n",
            "_________________________________________________________________\n",
            "max_pooling2d_21 (MaxPooling (None, 1, 1, 256)         0         \n",
            "_________________________________________________________________\n",
            "flatten_3 (Flatten)          (None, 256)               0         \n",
            "_________________________________________________________________\n",
            "dense_10 (Dense)             (None, 4096)              1052672   \n",
            "_________________________________________________________________\n",
            "dropout_7 (Dropout)          (None, 4096)              0         \n",
            "_________________________________________________________________\n",
            "dense_11 (Dense)             (None, 4096)              16781312  \n",
            "_________________________________________________________________\n",
            "dropout_8 (Dropout)          (None, 4096)              0         \n",
            "_________________________________________________________________\n",
            "dense_12 (Dense)             (None, 1000)              4097000   \n",
            "_________________________________________________________________\n",
            "dropout_9 (Dropout)          (None, 1000)              0         \n",
            "_________________________________________________________________\n",
            "dense_13 (Dense)             (None, 10)                10010     \n",
            "=================================================================\n",
            "Total params: 25,693,698\n",
            "Trainable params: 25,690,946\n",
            "Non-trainable params: 2,752\n",
            "_________________________________________________________________\n"
          ],
          "name": "stdout"
        }
      ]
    },
    {
      "cell_type": "markdown",
      "metadata": {
        "id": "fxnZfkWcOgTa"
      },
      "source": [
        "### Training net"
      ]
    },
    {
      "cell_type": "code",
      "metadata": {
        "id": "qJJJHH7jKcaW",
        "outputId": "b1a51f83-9685-4ec4-ecf9-9912a19f98fb",
        "colab": {
          "base_uri": "https://localhost:8080/",
          "height": 1000
        }
      },
      "source": [
        "model.fit(train_images, train_labels, epochs=150, validation_data=(test_images, test_labels))"
      ],
      "execution_count": 23,
      "outputs": [
        {
          "output_type": "stream",
          "text": [
            "Epoch 1/150\n",
            "1563/1563 [==============================] - 16s 10ms/step - loss: 2.1896 - accuracy: 0.2005 - val_loss: 1.8117 - val_accuracy: 0.3412\n",
            "Epoch 2/150\n",
            "1563/1563 [==============================] - 16s 10ms/step - loss: 1.8223 - accuracy: 0.3178 - val_loss: 1.7021 - val_accuracy: 0.3896\n",
            "Epoch 3/150\n",
            "1563/1563 [==============================] - 16s 10ms/step - loss: 1.6504 - accuracy: 0.3899 - val_loss: 1.5285 - val_accuracy: 0.4503\n",
            "Epoch 4/150\n",
            "1563/1563 [==============================] - 16s 10ms/step - loss: 1.5365 - accuracy: 0.4343 - val_loss: 1.7035 - val_accuracy: 0.4139\n",
            "Epoch 5/150\n",
            "1563/1563 [==============================] - 16s 10ms/step - loss: 1.4459 - accuracy: 0.4722 - val_loss: 1.4383 - val_accuracy: 0.4898\n",
            "Epoch 6/150\n",
            "1563/1563 [==============================] - 16s 10ms/step - loss: 1.3764 - accuracy: 0.5026 - val_loss: 1.3718 - val_accuracy: 0.5012\n",
            "Epoch 7/150\n",
            "1563/1563 [==============================] - 16s 10ms/step - loss: 1.3029 - accuracy: 0.5315 - val_loss: 1.3428 - val_accuracy: 0.5119\n",
            "Epoch 8/150\n",
            "1563/1563 [==============================] - 16s 10ms/step - loss: 1.2489 - accuracy: 0.5519 - val_loss: 1.3012 - val_accuracy: 0.5264\n",
            "Epoch 9/150\n",
            "1563/1563 [==============================] - 16s 10ms/step - loss: 1.1890 - accuracy: 0.5745 - val_loss: 1.2358 - val_accuracy: 0.5560\n",
            "Epoch 10/150\n",
            "1563/1563 [==============================] - 16s 10ms/step - loss: 1.1340 - accuracy: 0.5949 - val_loss: 1.3101 - val_accuracy: 0.5431\n",
            "Epoch 11/150\n",
            "1563/1563 [==============================] - 16s 10ms/step - loss: 1.0857 - accuracy: 0.6108 - val_loss: 1.3065 - val_accuracy: 0.5510\n",
            "Epoch 12/150\n",
            "1563/1563 [==============================] - 16s 10ms/step - loss: 1.0201 - accuracy: 0.6373 - val_loss: 1.1721 - val_accuracy: 0.5969\n",
            "Epoch 13/150\n",
            "1563/1563 [==============================] - 16s 10ms/step - loss: 0.9789 - accuracy: 0.6528 - val_loss: 1.3047 - val_accuracy: 0.5516\n",
            "Epoch 14/150\n",
            "1563/1563 [==============================] - 16s 10ms/step - loss: 0.9254 - accuracy: 0.6714 - val_loss: 1.2245 - val_accuracy: 0.5832\n",
            "Epoch 15/150\n",
            "1563/1563 [==============================] - 16s 10ms/step - loss: 0.8661 - accuracy: 0.6903 - val_loss: 1.2293 - val_accuracy: 0.5907\n",
            "Epoch 16/150\n",
            "1563/1563 [==============================] - 16s 10ms/step - loss: 0.8112 - accuracy: 0.7090 - val_loss: 1.2427 - val_accuracy: 0.5876\n",
            "Epoch 17/150\n",
            "1563/1563 [==============================] - 16s 10ms/step - loss: 0.7587 - accuracy: 0.7287 - val_loss: 1.3038 - val_accuracy: 0.5847\n",
            "Epoch 18/150\n",
            "1563/1563 [==============================] - 16s 10ms/step - loss: 0.7005 - accuracy: 0.7501 - val_loss: 1.2667 - val_accuracy: 0.6078\n",
            "Epoch 19/150\n",
            "1563/1563 [==============================] - 16s 10ms/step - loss: 0.6481 - accuracy: 0.7686 - val_loss: 1.3647 - val_accuracy: 0.5695\n",
            "Epoch 20/150\n",
            "1563/1563 [==============================] - 16s 10ms/step - loss: 0.5933 - accuracy: 0.7894 - val_loss: 1.3316 - val_accuracy: 0.6010\n",
            "Epoch 21/150\n",
            "1563/1563 [==============================] - 16s 10ms/step - loss: 0.5484 - accuracy: 0.8033 - val_loss: 1.4011 - val_accuracy: 0.5948\n",
            "Epoch 22/150\n",
            "1563/1563 [==============================] - 16s 10ms/step - loss: 0.4976 - accuracy: 0.8211 - val_loss: 1.5446 - val_accuracy: 0.5872\n",
            "Epoch 23/150\n",
            "1563/1563 [==============================] - 16s 10ms/step - loss: 0.4588 - accuracy: 0.8358 - val_loss: 1.5047 - val_accuracy: 0.5913\n",
            "Epoch 24/150\n",
            "1563/1563 [==============================] - 16s 10ms/step - loss: 0.4133 - accuracy: 0.8508 - val_loss: 1.4744 - val_accuracy: 0.6081\n",
            "Epoch 25/150\n",
            "1563/1563 [==============================] - 16s 10ms/step - loss: 0.3709 - accuracy: 0.8679 - val_loss: 1.8886 - val_accuracy: 0.5774\n",
            "Epoch 26/150\n",
            "1563/1563 [==============================] - 16s 10ms/step - loss: 0.3430 - accuracy: 0.8764 - val_loss: 1.7157 - val_accuracy: 0.5962\n",
            "Epoch 27/150\n",
            "1563/1563 [==============================] - 16s 10ms/step - loss: 0.3166 - accuracy: 0.8868 - val_loss: 1.7619 - val_accuracy: 0.5912\n",
            "Epoch 28/150\n",
            "1563/1563 [==============================] - 16s 10ms/step - loss: 0.2781 - accuracy: 0.9019 - val_loss: 1.9966 - val_accuracy: 0.5575\n",
            "Epoch 29/150\n",
            "1563/1563 [==============================] - 16s 10ms/step - loss: 0.2576 - accuracy: 0.9090 - val_loss: 1.8658 - val_accuracy: 0.5821\n",
            "Epoch 30/150\n",
            "1563/1563 [==============================] - 16s 10ms/step - loss: 0.2352 - accuracy: 0.9166 - val_loss: 1.9737 - val_accuracy: 0.5890\n",
            "Epoch 31/150\n",
            "1563/1563 [==============================] - 16s 10ms/step - loss: 0.2192 - accuracy: 0.9239 - val_loss: 1.9261 - val_accuracy: 0.5954\n",
            "Epoch 32/150\n",
            "1563/1563 [==============================] - 16s 10ms/step - loss: 0.1931 - accuracy: 0.9317 - val_loss: 1.9825 - val_accuracy: 0.5995\n",
            "Epoch 33/150\n",
            "1563/1563 [==============================] - 16s 10ms/step - loss: 0.1781 - accuracy: 0.9374 - val_loss: 2.0854 - val_accuracy: 0.5865\n",
            "Epoch 34/150\n",
            "1563/1563 [==============================] - 16s 10ms/step - loss: 0.1629 - accuracy: 0.9439 - val_loss: 2.2935 - val_accuracy: 0.5701\n",
            "Epoch 35/150\n",
            "1563/1563 [==============================] - 16s 10ms/step - loss: 0.1522 - accuracy: 0.9475 - val_loss: 2.2644 - val_accuracy: 0.5875\n",
            "Epoch 36/150\n",
            "1563/1563 [==============================] - 16s 10ms/step - loss: 0.1384 - accuracy: 0.9520 - val_loss: 2.0369 - val_accuracy: 0.6148\n",
            "Epoch 37/150\n",
            "1563/1563 [==============================] - 16s 10ms/step - loss: 0.1288 - accuracy: 0.9555 - val_loss: 2.1265 - val_accuracy: 0.6127\n",
            "Epoch 38/150\n",
            "1563/1563 [==============================] - 16s 10ms/step - loss: 0.1150 - accuracy: 0.9610 - val_loss: 2.1261 - val_accuracy: 0.6152\n",
            "Epoch 39/150\n",
            "1563/1563 [==============================] - 16s 10ms/step - loss: 0.1133 - accuracy: 0.9613 - val_loss: 2.3997 - val_accuracy: 0.5720\n",
            "Epoch 40/150\n",
            "1563/1563 [==============================] - 16s 10ms/step - loss: 0.1026 - accuracy: 0.9655 - val_loss: 2.1721 - val_accuracy: 0.6133\n",
            "Epoch 41/150\n",
            "1563/1563 [==============================] - 16s 10ms/step - loss: 0.1057 - accuracy: 0.9635 - val_loss: 2.2309 - val_accuracy: 0.6043\n",
            "Epoch 42/150\n",
            "1563/1563 [==============================] - 16s 10ms/step - loss: 0.0912 - accuracy: 0.9697 - val_loss: 2.4487 - val_accuracy: 0.5805\n",
            "Epoch 43/150\n",
            "1563/1563 [==============================] - 16s 10ms/step - loss: 0.0897 - accuracy: 0.9702 - val_loss: 2.2635 - val_accuracy: 0.6079\n",
            "Epoch 44/150\n",
            "1563/1563 [==============================] - 16s 10ms/step - loss: 0.0825 - accuracy: 0.9720 - val_loss: 2.2755 - val_accuracy: 0.6120\n",
            "Epoch 45/150\n",
            "1563/1563 [==============================] - 16s 10ms/step - loss: 0.0779 - accuracy: 0.9730 - val_loss: 2.3947 - val_accuracy: 0.5974\n",
            "Epoch 46/150\n",
            "1563/1563 [==============================] - 16s 10ms/step - loss: 0.0721 - accuracy: 0.9756 - val_loss: 2.4022 - val_accuracy: 0.6021\n",
            "Epoch 47/150\n",
            "1563/1563 [==============================] - 16s 10ms/step - loss: 0.0657 - accuracy: 0.9778 - val_loss: 2.3537 - val_accuracy: 0.6134\n",
            "Epoch 48/150\n",
            "1563/1563 [==============================] - 16s 10ms/step - loss: 0.0638 - accuracy: 0.9787 - val_loss: 2.4990 - val_accuracy: 0.6069\n",
            "Epoch 49/150\n",
            "1563/1563 [==============================] - 16s 10ms/step - loss: 0.0646 - accuracy: 0.9784 - val_loss: 2.4051 - val_accuracy: 0.6190\n",
            "Epoch 50/150\n",
            "1563/1563 [==============================] - 16s 10ms/step - loss: 0.0617 - accuracy: 0.9791 - val_loss: 2.4788 - val_accuracy: 0.5932\n",
            "Epoch 51/150\n",
            "1563/1563 [==============================] - 16s 10ms/step - loss: 0.0590 - accuracy: 0.9799 - val_loss: 2.3938 - val_accuracy: 0.6065\n",
            "Epoch 52/150\n",
            "1563/1563 [==============================] - 16s 10ms/step - loss: 0.0553 - accuracy: 0.9817 - val_loss: 2.4264 - val_accuracy: 0.6096\n",
            "Epoch 53/150\n",
            "1563/1563 [==============================] - 16s 10ms/step - loss: 0.0525 - accuracy: 0.9826 - val_loss: 2.4766 - val_accuracy: 0.6088\n",
            "Epoch 54/150\n",
            "1563/1563 [==============================] - 16s 10ms/step - loss: 0.0473 - accuracy: 0.9847 - val_loss: 2.4655 - val_accuracy: 0.6210\n",
            "Epoch 55/150\n",
            "1563/1563 [==============================] - 16s 10ms/step - loss: 0.0459 - accuracy: 0.9847 - val_loss: 2.5047 - val_accuracy: 0.6136\n",
            "Epoch 56/150\n",
            "1563/1563 [==============================] - 16s 10ms/step - loss: 0.0428 - accuracy: 0.9858 - val_loss: 2.4480 - val_accuracy: 0.6193\n",
            "Epoch 57/150\n",
            "1563/1563 [==============================] - 16s 10ms/step - loss: 0.0426 - accuracy: 0.9858 - val_loss: 2.5502 - val_accuracy: 0.6162\n",
            "Epoch 58/150\n",
            "1563/1563 [==============================] - 16s 10ms/step - loss: 0.0436 - accuracy: 0.9857 - val_loss: 2.4746 - val_accuracy: 0.6193\n",
            "Epoch 59/150\n",
            "1563/1563 [==============================] - 16s 10ms/step - loss: 0.0427 - accuracy: 0.9856 - val_loss: 3.3977 - val_accuracy: 0.5636\n",
            "Epoch 60/150\n",
            "1563/1563 [==============================] - 16s 10ms/step - loss: 0.0427 - accuracy: 0.9860 - val_loss: 2.4991 - val_accuracy: 0.6276\n",
            "Epoch 61/150\n",
            "1563/1563 [==============================] - 16s 10ms/step - loss: 0.0383 - accuracy: 0.9870 - val_loss: 2.5146 - val_accuracy: 0.6199\n",
            "Epoch 62/150\n",
            "1563/1563 [==============================] - 16s 10ms/step - loss: 0.0346 - accuracy: 0.9885 - val_loss: 2.5792 - val_accuracy: 0.6188\n",
            "Epoch 63/150\n",
            "1563/1563 [==============================] - 16s 10ms/step - loss: 0.0367 - accuracy: 0.9876 - val_loss: 2.6315 - val_accuracy: 0.6117\n",
            "Epoch 64/150\n",
            "1563/1563 [==============================] - 16s 10ms/step - loss: 0.0401 - accuracy: 0.9867 - val_loss: 2.5175 - val_accuracy: 0.6246\n",
            "Epoch 65/150\n",
            "1563/1563 [==============================] - 16s 10ms/step - loss: 0.0336 - accuracy: 0.9887 - val_loss: 2.5181 - val_accuracy: 0.6274\n",
            "Epoch 66/150\n",
            "1563/1563 [==============================] - 16s 10ms/step - loss: 0.0331 - accuracy: 0.9890 - val_loss: 2.6052 - val_accuracy: 0.6250\n",
            "Epoch 67/150\n",
            "1563/1563 [==============================] - 16s 10ms/step - loss: 0.0323 - accuracy: 0.9891 - val_loss: 2.5941 - val_accuracy: 0.6223\n",
            "Epoch 68/150\n",
            "1563/1563 [==============================] - 16s 10ms/step - loss: 0.0314 - accuracy: 0.9900 - val_loss: 2.6173 - val_accuracy: 0.6244\n",
            "Epoch 69/150\n",
            "1563/1563 [==============================] - 16s 10ms/step - loss: 0.0337 - accuracy: 0.9890 - val_loss: 2.6428 - val_accuracy: 0.6169\n",
            "Epoch 70/150\n",
            "1563/1563 [==============================] - 16s 10ms/step - loss: 0.0277 - accuracy: 0.9908 - val_loss: 2.6413 - val_accuracy: 0.6179\n",
            "Epoch 71/150\n",
            "1563/1563 [==============================] - 16s 10ms/step - loss: 0.0282 - accuracy: 0.9909 - val_loss: 2.7026 - val_accuracy: 0.6255\n",
            "Epoch 72/150\n",
            "1563/1563 [==============================] - 16s 10ms/step - loss: 0.0276 - accuracy: 0.9911 - val_loss: 2.8834 - val_accuracy: 0.6050\n",
            "Epoch 73/150\n",
            "1563/1563 [==============================] - 16s 10ms/step - loss: 0.0262 - accuracy: 0.9910 - val_loss: 3.1734 - val_accuracy: 0.5755\n",
            "Epoch 74/150\n",
            "1563/1563 [==============================] - 16s 10ms/step - loss: 0.0259 - accuracy: 0.9919 - val_loss: 2.6026 - val_accuracy: 0.6225\n",
            "Epoch 75/150\n",
            "1563/1563 [==============================] - 16s 10ms/step - loss: 0.0258 - accuracy: 0.9916 - val_loss: 2.6369 - val_accuracy: 0.6266\n",
            "Epoch 76/150\n",
            "1563/1563 [==============================] - 16s 10ms/step - loss: 0.0275 - accuracy: 0.9911 - val_loss: 2.6136 - val_accuracy: 0.6281\n",
            "Epoch 77/150\n",
            "1563/1563 [==============================] - 16s 10ms/step - loss: 0.0234 - accuracy: 0.9926 - val_loss: 2.6099 - val_accuracy: 0.6277\n",
            "Epoch 78/150\n",
            "1563/1563 [==============================] - 16s 10ms/step - loss: 0.0222 - accuracy: 0.9926 - val_loss: 2.6450 - val_accuracy: 0.6273\n",
            "Epoch 79/150\n",
            "1563/1563 [==============================] - 16s 10ms/step - loss: 0.0233 - accuracy: 0.9922 - val_loss: 2.8336 - val_accuracy: 0.6139\n",
            "Epoch 80/150\n",
            "1563/1563 [==============================] - 16s 10ms/step - loss: 0.0224 - accuracy: 0.9926 - val_loss: 2.7416 - val_accuracy: 0.6228\n",
            "Epoch 81/150\n",
            "1563/1563 [==============================] - 16s 10ms/step - loss: 0.0182 - accuracy: 0.9942 - val_loss: 2.7488 - val_accuracy: 0.6260\n",
            "Epoch 82/150\n",
            "1563/1563 [==============================] - 17s 11ms/step - loss: 0.0182 - accuracy: 0.9942 - val_loss: 2.7265 - val_accuracy: 0.6274\n",
            "Epoch 83/150\n",
            "1563/1563 [==============================] - 16s 10ms/step - loss: 0.0197 - accuracy: 0.9937 - val_loss: 2.7866 - val_accuracy: 0.6185\n",
            "Epoch 84/150\n",
            "1563/1563 [==============================] - 16s 10ms/step - loss: 0.0197 - accuracy: 0.9934 - val_loss: 2.9072 - val_accuracy: 0.6188\n",
            "Epoch 85/150\n",
            "1563/1563 [==============================] - 16s 10ms/step - loss: 0.0207 - accuracy: 0.9930 - val_loss: 2.6852 - val_accuracy: 0.6282\n",
            "Epoch 86/150\n",
            "1563/1563 [==============================] - 16s 10ms/step - loss: 0.0176 - accuracy: 0.9943 - val_loss: 2.7820 - val_accuracy: 0.6153\n",
            "Epoch 87/150\n",
            "1563/1563 [==============================] - 16s 10ms/step - loss: 0.0164 - accuracy: 0.9945 - val_loss: 2.7528 - val_accuracy: 0.6331\n",
            "Epoch 88/150\n",
            "1563/1563 [==============================] - 16s 10ms/step - loss: 0.0186 - accuracy: 0.9940 - val_loss: 2.8108 - val_accuracy: 0.6256\n",
            "Epoch 89/150\n",
            "1563/1563 [==============================] - 16s 10ms/step - loss: 0.0200 - accuracy: 0.9937 - val_loss: 2.8042 - val_accuracy: 0.6192\n",
            "Epoch 90/150\n",
            "1563/1563 [==============================] - 16s 10ms/step - loss: 0.0209 - accuracy: 0.9934 - val_loss: 2.9571 - val_accuracy: 0.6008\n",
            "Epoch 91/150\n",
            "1563/1563 [==============================] - 16s 10ms/step - loss: 0.0253 - accuracy: 0.9920 - val_loss: 2.7507 - val_accuracy: 0.6245\n",
            "Epoch 92/150\n",
            "1563/1563 [==============================] - 16s 10ms/step - loss: 0.0226 - accuracy: 0.9923 - val_loss: 2.8544 - val_accuracy: 0.6155\n",
            "Epoch 93/150\n",
            "1563/1563 [==============================] - 16s 10ms/step - loss: 0.0213 - accuracy: 0.9929 - val_loss: 2.7032 - val_accuracy: 0.6279\n",
            "Epoch 94/150\n",
            "1563/1563 [==============================] - 16s 10ms/step - loss: 0.0178 - accuracy: 0.9943 - val_loss: 2.7343 - val_accuracy: 0.6280\n",
            "Epoch 95/150\n",
            "1563/1563 [==============================] - 16s 10ms/step - loss: 0.0172 - accuracy: 0.9943 - val_loss: 2.8015 - val_accuracy: 0.6175\n",
            "Epoch 96/150\n",
            "1563/1563 [==============================] - 16s 10ms/step - loss: 0.0178 - accuracy: 0.9945 - val_loss: 2.7299 - val_accuracy: 0.6235\n",
            "Epoch 97/150\n",
            "1563/1563 [==============================] - 16s 10ms/step - loss: 0.0156 - accuracy: 0.9947 - val_loss: 3.2365 - val_accuracy: 0.5877\n",
            "Epoch 98/150\n",
            "1563/1563 [==============================] - 16s 10ms/step - loss: 0.0178 - accuracy: 0.9941 - val_loss: 2.8029 - val_accuracy: 0.6278\n",
            "Epoch 99/150\n",
            "1563/1563 [==============================] - 16s 10ms/step - loss: 0.0154 - accuracy: 0.9946 - val_loss: 2.7802 - val_accuracy: 0.6291\n",
            "Epoch 100/150\n",
            "1563/1563 [==============================] - 16s 10ms/step - loss: 0.0171 - accuracy: 0.9940 - val_loss: 2.7548 - val_accuracy: 0.6280\n",
            "Epoch 101/150\n",
            "1563/1563 [==============================] - 17s 11ms/step - loss: 0.0159 - accuracy: 0.9946 - val_loss: 2.7309 - val_accuracy: 0.6235\n",
            "Epoch 102/150\n",
            "1563/1563 [==============================] - 16s 10ms/step - loss: 0.0154 - accuracy: 0.9949 - val_loss: 2.9581 - val_accuracy: 0.6173\n",
            "Epoch 103/150\n",
            "1563/1563 [==============================] - 16s 10ms/step - loss: 0.0152 - accuracy: 0.9949 - val_loss: 2.8764 - val_accuracy: 0.6205\n",
            "Epoch 104/150\n",
            "1563/1563 [==============================] - 16s 10ms/step - loss: 0.0151 - accuracy: 0.9951 - val_loss: 2.8285 - val_accuracy: 0.6241\n",
            "Epoch 105/150\n",
            "1563/1563 [==============================] - 16s 10ms/step - loss: 0.0139 - accuracy: 0.9953 - val_loss: 2.7943 - val_accuracy: 0.6303\n",
            "Epoch 106/150\n",
            "1563/1563 [==============================] - 16s 10ms/step - loss: 0.0136 - accuracy: 0.9956 - val_loss: 2.8495 - val_accuracy: 0.6263\n",
            "Epoch 107/150\n",
            "1563/1563 [==============================] - 16s 10ms/step - loss: 0.0123 - accuracy: 0.9963 - val_loss: 2.8254 - val_accuracy: 0.6230\n",
            "Epoch 108/150\n",
            "1563/1563 [==============================] - 16s 10ms/step - loss: 0.0119 - accuracy: 0.9961 - val_loss: 2.8359 - val_accuracy: 0.6252\n",
            "Epoch 109/150\n",
            "1563/1563 [==============================] - 16s 10ms/step - loss: 0.0103 - accuracy: 0.9966 - val_loss: 2.8901 - val_accuracy: 0.6214\n",
            "Epoch 110/150\n",
            "1563/1563 [==============================] - 16s 10ms/step - loss: 0.0114 - accuracy: 0.9963 - val_loss: 2.8237 - val_accuracy: 0.6236\n",
            "Epoch 111/150\n",
            "1563/1563 [==============================] - 16s 10ms/step - loss: 0.0100 - accuracy: 0.9965 - val_loss: 2.8686 - val_accuracy: 0.6294\n",
            "Epoch 112/150\n",
            "1563/1563 [==============================] - 16s 10ms/step - loss: 0.0093 - accuracy: 0.9972 - val_loss: 2.8303 - val_accuracy: 0.6336\n",
            "Epoch 113/150\n",
            "1563/1563 [==============================] - 16s 10ms/step - loss: 0.0119 - accuracy: 0.9964 - val_loss: 2.8726 - val_accuracy: 0.6273\n",
            "Epoch 114/150\n",
            "1563/1563 [==============================] - 16s 10ms/step - loss: 0.0124 - accuracy: 0.9959 - val_loss: 2.9992 - val_accuracy: 0.6207\n",
            "Epoch 115/150\n",
            "1563/1563 [==============================] - 16s 10ms/step - loss: 0.0107 - accuracy: 0.9968 - val_loss: 2.9081 - val_accuracy: 0.6297\n",
            "Epoch 116/150\n",
            "1563/1563 [==============================] - 16s 10ms/step - loss: 0.0133 - accuracy: 0.9956 - val_loss: 2.8058 - val_accuracy: 0.6323\n",
            "Epoch 117/150\n",
            "1563/1563 [==============================] - 16s 10ms/step - loss: 0.0108 - accuracy: 0.9965 - val_loss: 2.9290 - val_accuracy: 0.6265\n",
            "Epoch 118/150\n",
            "1563/1563 [==============================] - 16s 10ms/step - loss: 0.0118 - accuracy: 0.9961 - val_loss: 2.9027 - val_accuracy: 0.6329\n",
            "Epoch 119/150\n",
            "1563/1563 [==============================] - 16s 10ms/step - loss: 0.0091 - accuracy: 0.9971 - val_loss: 2.8971 - val_accuracy: 0.6385\n",
            "Epoch 120/150\n",
            "1563/1563 [==============================] - 16s 10ms/step - loss: 0.0092 - accuracy: 0.9971 - val_loss: 2.8833 - val_accuracy: 0.6322\n",
            "Epoch 121/150\n",
            "1563/1563 [==============================] - 16s 10ms/step - loss: 0.0118 - accuracy: 0.9963 - val_loss: 2.8527 - val_accuracy: 0.6350\n",
            "Epoch 122/150\n",
            "1563/1563 [==============================] - 16s 10ms/step - loss: 0.0113 - accuracy: 0.9964 - val_loss: 2.8347 - val_accuracy: 0.6287\n",
            "Epoch 123/150\n",
            "1563/1563 [==============================] - 16s 10ms/step - loss: 0.0091 - accuracy: 0.9971 - val_loss: 2.8909 - val_accuracy: 0.6298\n",
            "Epoch 124/150\n",
            "1563/1563 [==============================] - 16s 10ms/step - loss: 0.0115 - accuracy: 0.9960 - val_loss: 2.8875 - val_accuracy: 0.6285\n",
            "Epoch 125/150\n",
            "1563/1563 [==============================] - 16s 10ms/step - loss: 0.0105 - accuracy: 0.9968 - val_loss: 2.9233 - val_accuracy: 0.6243\n",
            "Epoch 126/150\n",
            "1563/1563 [==============================] - 16s 10ms/step - loss: 0.0113 - accuracy: 0.9966 - val_loss: 2.9195 - val_accuracy: 0.6301\n",
            "Epoch 127/150\n",
            "1563/1563 [==============================] - 16s 10ms/step - loss: 0.0103 - accuracy: 0.9967 - val_loss: 2.9770 - val_accuracy: 0.6259\n",
            "Epoch 128/150\n",
            "1563/1563 [==============================] - 16s 10ms/step - loss: 0.0113 - accuracy: 0.9966 - val_loss: 2.8541 - val_accuracy: 0.6373\n",
            "Epoch 129/150\n",
            "1563/1563 [==============================] - 16s 10ms/step - loss: 0.0097 - accuracy: 0.9966 - val_loss: 2.9738 - val_accuracy: 0.6283\n",
            "Epoch 130/150\n",
            "1563/1563 [==============================] - 16s 10ms/step - loss: 0.0119 - accuracy: 0.9959 - val_loss: 2.9070 - val_accuracy: 0.6312\n",
            "Epoch 131/150\n",
            "1563/1563 [==============================] - 16s 10ms/step - loss: 0.0103 - accuracy: 0.9969 - val_loss: 2.9044 - val_accuracy: 0.6242\n",
            "Epoch 132/150\n",
            "1563/1563 [==============================] - 16s 10ms/step - loss: 0.0093 - accuracy: 0.9969 - val_loss: 2.9868 - val_accuracy: 0.6213\n",
            "Epoch 133/150\n",
            "1563/1563 [==============================] - 16s 10ms/step - loss: 0.0137 - accuracy: 0.9956 - val_loss: 2.9550 - val_accuracy: 0.6225\n",
            "Epoch 134/150\n",
            "1563/1563 [==============================] - 16s 10ms/step - loss: 0.0117 - accuracy: 0.9961 - val_loss: 2.8459 - val_accuracy: 0.6342\n",
            "Epoch 135/150\n",
            "1563/1563 [==============================] - 16s 10ms/step - loss: 0.0096 - accuracy: 0.9969 - val_loss: 2.9193 - val_accuracy: 0.6307\n",
            "Epoch 136/150\n",
            "1563/1563 [==============================] - 16s 10ms/step - loss: 0.0116 - accuracy: 0.9961 - val_loss: 2.9713 - val_accuracy: 0.6183\n",
            "Epoch 137/150\n",
            "1563/1563 [==============================] - 16s 10ms/step - loss: 0.0107 - accuracy: 0.9967 - val_loss: 2.9038 - val_accuracy: 0.6288\n",
            "Epoch 138/150\n",
            "1563/1563 [==============================] - 16s 10ms/step - loss: 0.0092 - accuracy: 0.9973 - val_loss: 3.0329 - val_accuracy: 0.6221\n",
            "Epoch 139/150\n",
            "1563/1563 [==============================] - 17s 11ms/step - loss: 0.0089 - accuracy: 0.9972 - val_loss: 2.9243 - val_accuracy: 0.6277\n",
            "Epoch 140/150\n",
            "1563/1563 [==============================] - 16s 10ms/step - loss: 0.0094 - accuracy: 0.9968 - val_loss: 2.9183 - val_accuracy: 0.6323\n",
            "Epoch 141/150\n",
            "1563/1563 [==============================] - 16s 10ms/step - loss: 0.0081 - accuracy: 0.9974 - val_loss: 2.9048 - val_accuracy: 0.6372\n",
            "Epoch 142/150\n",
            "1563/1563 [==============================] - 17s 11ms/step - loss: 0.0066 - accuracy: 0.9979 - val_loss: 2.9484 - val_accuracy: 0.6331\n",
            "Epoch 143/150\n",
            "1563/1563 [==============================] - 16s 10ms/step - loss: 0.0086 - accuracy: 0.9971 - val_loss: 3.0039 - val_accuracy: 0.6249\n",
            "Epoch 144/150\n",
            "1563/1563 [==============================] - 16s 10ms/step - loss: 0.0099 - accuracy: 0.9967 - val_loss: 2.9731 - val_accuracy: 0.6261\n",
            "Epoch 145/150\n",
            "1563/1563 [==============================] - 16s 10ms/step - loss: 0.0088 - accuracy: 0.9972 - val_loss: 2.9439 - val_accuracy: 0.6318\n",
            "Epoch 146/150\n",
            "1563/1563 [==============================] - 16s 10ms/step - loss: 0.0103 - accuracy: 0.9967 - val_loss: 2.9676 - val_accuracy: 0.6301\n",
            "Epoch 147/150\n",
            "1563/1563 [==============================] - 16s 10ms/step - loss: 0.0093 - accuracy: 0.9972 - val_loss: 3.2619 - val_accuracy: 0.5911\n",
            "Epoch 148/150\n",
            "1563/1563 [==============================] - 16s 10ms/step - loss: 0.0077 - accuracy: 0.9975 - val_loss: 2.9380 - val_accuracy: 0.6333\n",
            "Epoch 149/150\n",
            "1563/1563 [==============================] - 16s 10ms/step - loss: 0.0073 - accuracy: 0.9975 - val_loss: 3.1405 - val_accuracy: 0.6166\n",
            "Epoch 150/150\n",
            "1563/1563 [==============================] - 16s 10ms/step - loss: 0.0076 - accuracy: 0.9974 - val_loss: 2.9550 - val_accuracy: 0.6359\n"
          ],
          "name": "stdout"
        },
        {
          "output_type": "execute_result",
          "data": {
            "text/plain": [
              "<tensorflow.python.keras.callbacks.History at 0x7f4fe6053748>"
            ]
          },
          "metadata": {
            "tags": []
          },
          "execution_count": 23
        }
      ]
    },
    {
      "cell_type": "markdown",
      "metadata": {
        "id": "6Jd2hZMSjAXf"
      },
      "source": [
        "### Plotting losses"
      ]
    },
    {
      "cell_type": "code",
      "metadata": {
        "id": "nY96PPbFisq1"
      },
      "source": [
        "import matplotlib.pyplot as plt"
      ],
      "execution_count": 47,
      "outputs": []
    },
    {
      "cell_type": "code",
      "metadata": {
        "id": "SKx1J2LHiptR",
        "outputId": "7f042f35-b27b-4fbc-f9c2-e2ab0a72f38b",
        "colab": {
          "base_uri": "https://localhost:8080/",
          "height": 281
        }
      },
      "source": [
        "plt.plot(model.history.history['loss'])\n",
        "plt.plot(model.history.history['val_loss'])"
      ],
      "execution_count": 49,
      "outputs": [
        {
          "output_type": "execute_result",
          "data": {
            "text/plain": [
              "[<matplotlib.lines.Line2D at 0x7f4f30e9f1d0>]"
            ]
          },
          "metadata": {
            "tags": []
          },
          "execution_count": 49
        },
        {
          "output_type": "display_data",
          "data": {
            "image/png": "[encoded data removed]",
            "text/plain": [
              "<Figure size 432x288 with 1 Axes>"
            ]
          },
          "metadata": {
            "tags": [],
            "needs_background": "light"
          }
        }
      ]
    }
  ]
}